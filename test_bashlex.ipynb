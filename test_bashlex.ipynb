{
 "cells": [
  {
   "cell_type": "code",
   "execution_count": 1,
   "metadata": {},
   "outputs": [
    {
     "name": "stdout",
     "output_type": "stream",
     "text": [
      "ListNode(pos=(0, 31), parts=[\n",
      "  CommandNode(pos=(0, 4), parts=[\n",
      "    WordNode(pos=(0, 4), word='true'),\n",
      "  ]),\n",
      "  OperatorNode(op='&&', pos=(5, 7)),\n",
      "  CommandNode(pos=(8, 31), parts=[\n",
      "    WordNode(pos=(8, 11), word='cat'),\n",
      "    WordNode(pos=(12, 31), word='<(echo $(echo foo))', parts=[\n",
      "      ProcesssubstitutionNode(command=\n",
      "        CommandNode(pos=(14, 30), parts=[\n",
      "          WordNode(pos=(14, 18), word='echo'),\n",
      "          WordNode(pos=(19, 30), word='$(echo foo)', parts=[\n",
      "            CommandsubstitutionNode(command=\n",
      "              CommandNode(pos=(21, 29), parts=[\n",
      "                WordNode(pos=(21, 25), word='echo'),\n",
      "                WordNode(pos=(26, 29), word='foo'),\n",
      "              ]), pos=(19, 30)),\n",
      "          ]),\n",
      "        ]), pos=(12, 31)),\n",
      "    ]),\n",
      "  ]),\n",
      "])\n"
     ]
    }
   ],
   "source": [
    "import bashlex\n",
    "\n",
    "parts = bashlex.parse(\"true && cat <(echo $(echo foo))\")\n",
    "for ast in parts:\n",
    "    print(ast.dump())"
   ]
  },
  {
   "cell_type": "code",
   "execution_count": 3,
   "metadata": {},
   "outputs": [
    {
     "name": "stdout",
     "output_type": "stream",
     "text": [
      "ListNode(pos=(0, 81), parts=[\n",
      "  CommandNode(pos=(0, 10), parts=[\n",
      "    WordNode(pos=(0, 2), word='cd'),\n",
      "    WordNode(pos=(3, 10), word='package'),\n",
      "  ]),\n",
      "  OperatorNode(op='&&', pos=(11, 13)),\n",
      "  CommandNode(pos=(14, 81), parts=[\n",
      "    WordNode(pos=(14, 26), word='sphinx-build'),\n",
      "    WordNode(pos=(27, 29), word='-b'),\n",
      "    WordNode(pos=(30, 37), word='doctest'),\n",
      "    WordNode(pos=(38, 50), word='--keep-going'),\n",
      "    WordNode(pos=(51, 70), word='./doc/sphinx/source'),\n",
      "    WordNode(pos=(71, 81), word='./doc/html'),\n",
      "  ]),\n",
      "])\n"
     ]
    }
   ],
   "source": [
    "parts = bashlex.parse(\n",
    "    \"cd package && sphinx-build -b doctest --keep-going ./doc/sphinx/source ./doc/html\"\n",
    ")\n",
    "for ast in parts:\n",
    "    print(ast.dump())"
   ]
  },
  {
   "cell_type": "code",
   "execution_count": 5,
   "metadata": {},
   "outputs": [
    {
     "name": "stdout",
     "output_type": "stream",
     "text": [
      "CompoundNode(list=[\n",
      "  ForNode(pos=(0, 119), parts=[\n",
      "    ReservedwordNode(pos=(0, 3), word='for'),\n",
      "    WordNode(pos=(4, 11), word='dirname'),\n",
      "    ReservedwordNode(pos=(12, 14), word='in'),\n",
      "    WordNode(pos=(15, 18), word='dev'),\n",
      "    WordNode(pos=(19, 25), word='stable'),\n",
      "    WordNode(pos=(26, 45), word='documentation_pages'),\n",
      "    ReservedwordNode(pos=(46, 47), word=';'),\n",
      "    ReservedwordNode(pos=(48, 50), word='do'),\n",
      "    CompoundNode(list=[\n",
      "      IfNode(pos=(61, 106), parts=[\n",
      "        ReservedwordNode(pos=(61, 63), word='if'),\n",
      "        ListNode(pos=(64, 80), parts=[\n",
      "            CommandNode(pos=(64, 79), parts=[\n",
      "              WordNode(pos=(64, 65), word='['),\n",
      "              WordNode(pos=(66, 68), word='-d'),\n",
      "              WordNode(pos=(69, 77), word='$dirname', parts=[\n",
      "                ParameterNode(pos=(69, 77), value='dirname'),\n",
      "              ]),\n",
      "              WordNode(pos=(78, 79), word=']'),\n",
      "            ]),\n",
      "            OperatorNode(op=';', pos=(79, 80)),\n",
      "          ]),\n",
      "        ReservedwordNode(pos=(81, 85), word='then'),\n",
      "        ListNode(pos=(86, 103), parts=[\n",
      "            CommandNode(pos=(86, 102), parts=[\n",
      "              WordNode(pos=(86, 89), word='git'),\n",
      "              WordNode(pos=(90, 93), word='add'),\n",
      "              WordNode(pos=(94, 102), word='$dirname', parts=[\n",
      "                ParameterNode(pos=(94, 102), value='dirname'),\n",
      "              ]),\n",
      "            ]),\n",
      "            OperatorNode(op=';', pos=(102, 103)),\n",
      "          ]),\n",
      "        ReservedwordNode(pos=(104, 106), word='fi'),\n",
      "      ]),\n",
      "    ], pos=(61, 106)),\n",
      "    ReservedwordNode(pos=(115, 119), word='done'),\n",
      "  ]),\n",
      "], pos=(0, 119))\n"
     ]
    }
   ],
   "source": [
    "parts = bashlex.parse(\n",
    "    \"\"\"for dirname in dev stable documentation_pages ; do\n",
    "          if [ -d $dirname ]; then git add $dirname; fi\n",
    "        done\"\"\"\n",
    ")\n",
    "for ast in parts:\n",
    "    print(ast.dump())"
   ]
  },
  {
   "cell_type": "code",
   "execution_count": 6,
   "metadata": {},
   "outputs": [
    {
     "ename": "JSONDecodeError",
     "evalue": "Expecting value: line 1 column 1 (char 0)",
     "output_type": "error",
     "traceback": [
      "\u001b[0;31m---------------------------------------------------------------------------\u001b[0m",
      "\u001b[0;31mJSONDecodeError\u001b[0m                           Traceback (most recent call last)",
      "Cell \u001b[0;32mIn[6], line 33\u001b[0m\n\u001b[1;32m     31\u001b[0m \u001b[38;5;66;03m# Example usage\u001b[39;00m\n\u001b[1;32m     32\u001b[0m command \u001b[38;5;241m=\u001b[39m \u001b[38;5;124m'\u001b[39m\u001b[38;5;124mls -la\u001b[39m\u001b[38;5;124m'\u001b[39m\n\u001b[0;32m---> 33\u001b[0m explanation \u001b[38;5;241m=\u001b[39m \u001b[43mexplain_shell_command\u001b[49m\u001b[43m(\u001b[49m\u001b[43mcommand\u001b[49m\u001b[43m)\u001b[49m\n\u001b[1;32m     34\u001b[0m \u001b[38;5;28mprint\u001b[39m(explanation)\n",
      "Cell \u001b[0;32mIn[6], line 10\u001b[0m, in \u001b[0;36mexplain_shell_command\u001b[0;34m(command)\u001b[0m\n\u001b[1;32m      8\u001b[0m response \u001b[38;5;241m=\u001b[39m requests\u001b[38;5;241m.\u001b[39mget(url, params\u001b[38;5;241m=\u001b[39mparams)\n\u001b[1;32m      9\u001b[0m response\u001b[38;5;241m.\u001b[39mraise_for_status()  \u001b[38;5;66;03m# Check for request errors\u001b[39;00m\n\u001b[0;32m---> 10\u001b[0m explanation_data \u001b[38;5;241m=\u001b[39m \u001b[43mresponse\u001b[49m\u001b[38;5;241;43m.\u001b[39;49m\u001b[43mjson\u001b[49m\u001b[43m(\u001b[49m\u001b[43m)\u001b[49m\n\u001b[1;32m     12\u001b[0m \u001b[38;5;66;03m# Check if explanations are available\u001b[39;00m\n\u001b[1;32m     13\u001b[0m \u001b[38;5;28;01mif\u001b[39;00m explanation_data\u001b[38;5;241m.\u001b[39mget(\u001b[38;5;124m'\u001b[39m\u001b[38;5;124mhelp\u001b[39m\u001b[38;5;124m'\u001b[39m):\n",
      "File \u001b[0;32m/usr/lib/python3/dist-packages/requests/models.py:900\u001b[0m, in \u001b[0;36mResponse.json\u001b[0;34m(self, **kwargs)\u001b[0m\n\u001b[1;32m    894\u001b[0m         \u001b[38;5;28;01mexcept\u001b[39;00m \u001b[38;5;167;01mUnicodeDecodeError\u001b[39;00m:\n\u001b[1;32m    895\u001b[0m             \u001b[38;5;66;03m# Wrong UTF codec detected; usually because it's not UTF-8\u001b[39;00m\n\u001b[1;32m    896\u001b[0m             \u001b[38;5;66;03m# but some other 8-bit codec.  This is an RFC violation,\u001b[39;00m\n\u001b[1;32m    897\u001b[0m             \u001b[38;5;66;03m# and the server didn't bother to tell us what codec *was*\u001b[39;00m\n\u001b[1;32m    898\u001b[0m             \u001b[38;5;66;03m# used.\u001b[39;00m\n\u001b[1;32m    899\u001b[0m             \u001b[38;5;28;01mpass\u001b[39;00m\n\u001b[0;32m--> 900\u001b[0m \u001b[38;5;28;01mreturn\u001b[39;00m \u001b[43mcomplexjson\u001b[49m\u001b[38;5;241;43m.\u001b[39;49m\u001b[43mloads\u001b[49m\u001b[43m(\u001b[49m\u001b[38;5;28;43mself\u001b[39;49m\u001b[38;5;241;43m.\u001b[39;49m\u001b[43mtext\u001b[49m\u001b[43m,\u001b[49m\u001b[43m \u001b[49m\u001b[38;5;241;43m*\u001b[39;49m\u001b[38;5;241;43m*\u001b[39;49m\u001b[43mkwargs\u001b[49m\u001b[43m)\u001b[49m\n",
      "File \u001b[0;32m/usr/lib/python3.10/json/__init__.py:346\u001b[0m, in \u001b[0;36mloads\u001b[0;34m(s, cls, object_hook, parse_float, parse_int, parse_constant, object_pairs_hook, **kw)\u001b[0m\n\u001b[1;32m    341\u001b[0m     s \u001b[38;5;241m=\u001b[39m s\u001b[38;5;241m.\u001b[39mdecode(detect_encoding(s), \u001b[38;5;124m'\u001b[39m\u001b[38;5;124msurrogatepass\u001b[39m\u001b[38;5;124m'\u001b[39m)\n\u001b[1;32m    343\u001b[0m \u001b[38;5;28;01mif\u001b[39;00m (\u001b[38;5;28mcls\u001b[39m \u001b[38;5;129;01mis\u001b[39;00m \u001b[38;5;28;01mNone\u001b[39;00m \u001b[38;5;129;01mand\u001b[39;00m object_hook \u001b[38;5;129;01mis\u001b[39;00m \u001b[38;5;28;01mNone\u001b[39;00m \u001b[38;5;129;01mand\u001b[39;00m\n\u001b[1;32m    344\u001b[0m         parse_int \u001b[38;5;129;01mis\u001b[39;00m \u001b[38;5;28;01mNone\u001b[39;00m \u001b[38;5;129;01mand\u001b[39;00m parse_float \u001b[38;5;129;01mis\u001b[39;00m \u001b[38;5;28;01mNone\u001b[39;00m \u001b[38;5;129;01mand\u001b[39;00m\n\u001b[1;32m    345\u001b[0m         parse_constant \u001b[38;5;129;01mis\u001b[39;00m \u001b[38;5;28;01mNone\u001b[39;00m \u001b[38;5;129;01mand\u001b[39;00m object_pairs_hook \u001b[38;5;129;01mis\u001b[39;00m \u001b[38;5;28;01mNone\u001b[39;00m \u001b[38;5;129;01mand\u001b[39;00m \u001b[38;5;129;01mnot\u001b[39;00m kw):\n\u001b[0;32m--> 346\u001b[0m     \u001b[38;5;28;01mreturn\u001b[39;00m \u001b[43m_default_decoder\u001b[49m\u001b[38;5;241;43m.\u001b[39;49m\u001b[43mdecode\u001b[49m\u001b[43m(\u001b[49m\u001b[43ms\u001b[49m\u001b[43m)\u001b[49m\n\u001b[1;32m    347\u001b[0m \u001b[38;5;28;01mif\u001b[39;00m \u001b[38;5;28mcls\u001b[39m \u001b[38;5;129;01mis\u001b[39;00m \u001b[38;5;28;01mNone\u001b[39;00m:\n\u001b[1;32m    348\u001b[0m     \u001b[38;5;28mcls\u001b[39m \u001b[38;5;241m=\u001b[39m JSONDecoder\n",
      "File \u001b[0;32m/usr/lib/python3.10/json/decoder.py:337\u001b[0m, in \u001b[0;36mJSONDecoder.decode\u001b[0;34m(self, s, _w)\u001b[0m\n\u001b[1;32m    332\u001b[0m \u001b[38;5;28;01mdef\u001b[39;00m \u001b[38;5;21mdecode\u001b[39m(\u001b[38;5;28mself\u001b[39m, s, _w\u001b[38;5;241m=\u001b[39mWHITESPACE\u001b[38;5;241m.\u001b[39mmatch):\n\u001b[1;32m    333\u001b[0m \u001b[38;5;250m    \u001b[39m\u001b[38;5;124;03m\"\"\"Return the Python representation of ``s`` (a ``str`` instance\u001b[39;00m\n\u001b[1;32m    334\u001b[0m \u001b[38;5;124;03m    containing a JSON document).\u001b[39;00m\n\u001b[1;32m    335\u001b[0m \n\u001b[1;32m    336\u001b[0m \u001b[38;5;124;03m    \"\"\"\u001b[39;00m\n\u001b[0;32m--> 337\u001b[0m     obj, end \u001b[38;5;241m=\u001b[39m \u001b[38;5;28;43mself\u001b[39;49m\u001b[38;5;241;43m.\u001b[39;49m\u001b[43mraw_decode\u001b[49m\u001b[43m(\u001b[49m\u001b[43ms\u001b[49m\u001b[43m,\u001b[49m\u001b[43m \u001b[49m\u001b[43midx\u001b[49m\u001b[38;5;241;43m=\u001b[39;49m\u001b[43m_w\u001b[49m\u001b[43m(\u001b[49m\u001b[43ms\u001b[49m\u001b[43m,\u001b[49m\u001b[43m \u001b[49m\u001b[38;5;241;43m0\u001b[39;49m\u001b[43m)\u001b[49m\u001b[38;5;241;43m.\u001b[39;49m\u001b[43mend\u001b[49m\u001b[43m(\u001b[49m\u001b[43m)\u001b[49m\u001b[43m)\u001b[49m\n\u001b[1;32m    338\u001b[0m     end \u001b[38;5;241m=\u001b[39m _w(s, end)\u001b[38;5;241m.\u001b[39mend()\n\u001b[1;32m    339\u001b[0m     \u001b[38;5;28;01mif\u001b[39;00m end \u001b[38;5;241m!=\u001b[39m \u001b[38;5;28mlen\u001b[39m(s):\n",
      "File \u001b[0;32m/usr/lib/python3.10/json/decoder.py:355\u001b[0m, in \u001b[0;36mJSONDecoder.raw_decode\u001b[0;34m(self, s, idx)\u001b[0m\n\u001b[1;32m    353\u001b[0m     obj, end \u001b[38;5;241m=\u001b[39m \u001b[38;5;28mself\u001b[39m\u001b[38;5;241m.\u001b[39mscan_once(s, idx)\n\u001b[1;32m    354\u001b[0m \u001b[38;5;28;01mexcept\u001b[39;00m \u001b[38;5;167;01mStopIteration\u001b[39;00m \u001b[38;5;28;01mas\u001b[39;00m err:\n\u001b[0;32m--> 355\u001b[0m     \u001b[38;5;28;01mraise\u001b[39;00m JSONDecodeError(\u001b[38;5;124m\"\u001b[39m\u001b[38;5;124mExpecting value\u001b[39m\u001b[38;5;124m\"\u001b[39m, s, err\u001b[38;5;241m.\u001b[39mvalue) \u001b[38;5;28;01mfrom\u001b[39;00m \u001b[38;5;28;01mNone\u001b[39;00m\n\u001b[1;32m    356\u001b[0m \u001b[38;5;28;01mreturn\u001b[39;00m obj, end\n",
      "\u001b[0;31mJSONDecodeError\u001b[0m: Expecting value: line 1 column 1 (char 0)"
     ]
    }
   ],
   "source": [
    "import requests\n",
    "\n",
    "\n",
    "def explain_shell_command(command):\n",
    "    url = \"https://explainshell.com/explain\"\n",
    "    params = {\"cmd\": command}\n",
    "\n",
    "    try:\n",
    "        response = requests.get(url, params=params)\n",
    "        response.raise_for_status()  # Check for request errors\n",
    "        explanation_data = response.json()\n",
    "\n",
    "        # Check if explanations are available\n",
    "        if explanation_data.get(\"help\"):\n",
    "            return \"Explanation not available for the given command.\"\n",
    "\n",
    "        explanations = explanation_data.get(\"matches\", [])\n",
    "        result = []\n",
    "\n",
    "        # Format the output to display explanations\n",
    "        for match in explanations:\n",
    "            part = match.get(\"part\")\n",
    "            help_text = match.get(\"help\", \"\")\n",
    "\n",
    "            result.append(f\"'{part}': {help_text}\")\n",
    "\n",
    "        return \"\\n\".join(result)\n",
    "\n",
    "    except requests.exceptions.RequestException as e:\n",
    "        return f\"An error occurred: {e}\"\n",
    "\n",
    "\n",
    "# Example usage\n",
    "command = \"ls -la\"\n",
    "explanation = explain_shell_command(command)\n",
    "print(explanation)"
   ]
  },
  {
   "cell_type": "code",
   "execution_count": 5,
   "metadata": {},
   "outputs": [
    {
     "data": {
      "text/plain": [
       "'<!DOCTYPE HTML PUBLIC \"-//W3C//DTD HTML 3.2 Final//EN\">\\n<title>405 Method Not Allowed</title>\\n<h1>Method Not Allowed</h1>\\n<p>The method is not allowed for the requested URL.</p>\\n'"
      ]
     },
     "execution_count": 5,
     "metadata": {},
     "output_type": "execute_result"
    }
   ],
   "source": [
    "import requests\n",
    "\n",
    "URL = \"https://www.explainshell.com/explain?cmd=cd+package+%26%26+sphinx-build+-b+doctest+--keep-going+.%2Fdoc%2Fsphinx%2Fsource+.%2Fdoc%2Fhtml\"\n",
    "\n",
    "headers = {\"Content-type\": \"application/json\", \"Accept\": \"text/plain\"}\n",
    "\n",
    "# r = requests.get(url = URL,headers=headers)\n",
    "r = requests.post(url=URL, headers=headers)\n",
    "r.text\n",
    "# data = r.text()"
   ]
  }
 ],
 "metadata": {
  "kernelspec": {
   "display_name": "Python 3 (ipykernel)",
   "language": "python",
   "name": "python3"
  }
 },
 "nbformat": 4,
 "nbformat_minor": 2
}
